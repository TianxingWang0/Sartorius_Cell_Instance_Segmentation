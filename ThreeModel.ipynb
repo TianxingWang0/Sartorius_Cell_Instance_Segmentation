{
  "nbformat": 4,
  "nbformat_minor": 0,
  "metadata": {
    "colab": {
      "name": "ThreeModel.ipynb",
      "provenance": [],
      "machine_shape": "hm"
    },
    "kernelspec": {
      "name": "python3",
      "display_name": "Python 3"
    },
    "language_info": {
      "name": "python"
    },
    "accelerator": "GPU"
  },
  "cells": [
    {
      "cell_type": "code",
      "metadata": {
        "id": "n4ubwcBmfEbM"
      },
      "source": [
        "!apt-get install -y -qq software-properties-common python-software-properties module-init-tools\n",
        "!add-apt-repository -y ppa:alessandro-strada/ppa 2>&1 > /dev/null\n",
        "!apt-get update -qq 2>&1 > /dev/null\n",
        "!apt-get -y install -qq google-drive-ocamlfuse fuse\n",
        "from google.colab import auth\n",
        "auth.authenticate_user()\n",
        "from oauth2client.client import GoogleCredentials\n",
        "creds = GoogleCredentials.get_application_default()\n",
        "import getpass\n",
        "!google-drive-ocamlfuse -headless -id={creds.client_id} -secret={creds.client_secret} < /dev/null 2>&1 | grep URL\n",
        "vcode = getpass.getpass()\n",
        "!echo {vcode} | google-drive-ocamlfuse -headless -id={creds.client_id} -secret={creds.client_secret}"
      ],
      "execution_count": null,
      "outputs": []
    },
    {
      "cell_type": "code",
      "metadata": {
        "id": "x21yP6Vlf0eH"
      },
      "source": [
        "!mkdir -p drive\n",
        "!google-drive-ocamlfuse drive"
      ],
      "execution_count": null,
      "outputs": []
    },
    {
      "cell_type": "code",
      "metadata": {
        "id": "yQ0sRMmHDsLd",
        "colab": {
          "base_uri": "https://localhost:8080/",
          "height": 37
        },
        "outputId": "faad5613-f65b-4e9a-ea7b-517103f767d0"
      },
      "source": [
        "import shutil\n",
        "shutil.copyfile('/content/drive/MyDrive/annotation.zip', '/content/annotation.zip') \n",
        "shutil.copyfile('/content/drive/MyDrive/image.zip', '/content/image.zip') "
      ],
      "execution_count": null,
      "outputs": [
        {
          "output_type": "execute_result",
          "data": {
            "application/vnd.google.colaboratory.intrinsic+json": {
              "type": "string"
            },
            "text/plain": [
              "'/content/image.zip'"
            ]
          },
          "metadata": {},
          "execution_count": 2
        }
      ]
    },
    {
      "cell_type": "code",
      "metadata": {
        "id": "FnOqwB6PKtEb"
      },
      "source": [
        "!unzip annotation.zip\n",
        "!unzip image.zip"
      ],
      "execution_count": null,
      "outputs": []
    },
    {
      "cell_type": "code",
      "metadata": {
        "id": "dSptWHbMf28s"
      },
      "source": [
        "import tensorflow as tf\n",
        "import cv2\n",
        "import os\n",
        "import scipy\n",
        "import numpy as np\n",
        "\n",
        "train_dir = '/content/image/'\n",
        "\n",
        "#train_dir = '/content/drive/MyDrive/data_road/training/image_2/'\n",
        "# os.path.join(\"/content\",\"drive\", \"live\", \"training\", \"image_2\")+\"/\"   # os.path.join是做连接符，等同于data/train/img\n",
        "\n",
        "#train_label_dir = '/content/drive/MyDrive/data_road/training/gt_image_2/'\n",
        "train_label_dir = '/content/annotation/'\n",
        "# os.path.join(\"/content\",\"drive\", \"data_road\", \"training\", \"gt_image_2\")+\"/\"\n",
        "\n",
        "train_list_dir = os.listdir(train_dir)  # 列出train-image目录下的图片名字, 形如[\"um_000001.png\", ...]\n",
        "train_list_dir.sort()  # sort是排序，使得train_list与train_label_list一一对应\n",
        "\n",
        "train_label_list_dir = os.listdir(train_label_dir)  # 列出train-label目录下的图片名字,形如[\"um_road_000001.png\", ...]\n",
        "train_label_list_dir.sort()\n",
        "\n",
        "assert len(train_list_dir)==len(train_label_list_dir), \"训练的图片与标签数量不一致\"\n",
        "\n",
        "train_filenames = [train_dir + filename for filename in train_list_dir if filename[-3:] == 'png']  # 生成图片路径，形如[\"data/train/img/um_000001.png\"]\n",
        "train_label_filenames = [train_label_dir +\n",
        "                         filename for filename in train_label_list_dir if filename[-3:] == 'png'] # 生成label路径，形如[\"data/train/img/um_road_000001.png\"]\n",
        "\n"
      ],
      "execution_count": null,
      "outputs": []
    },
    {
      "cell_type": "code",
      "metadata": {
        "id": "-TkG0UlshFtz"
      },
      "source": [
        "def train_generator():\n",
        "    \"\"\"训练集生成器\"\"\"\n",
        "    # 对之前生成的路径列表用zip打包，生成形如[(\"data/train/img/um_000001.png\", \"data/train/img/um_road_000001.png\"), ....]的列表，然后遍历列表，取出一一对应的图片与label。\n",
        "    for train_file_name, train_label_filename in zip(train_filenames, train_label_filenames):\n",
        "        image, label = handle_data(train_file_name, train_label_filename)\n",
        "        \n",
        "\t\t# 这里第一次取的image, label = \"data/train/img/um_000001.png\", \"data/train/img/um_road_000001.png\"， 第二次往后迭代。用yield返回，这是python的generator的用法\n",
        "        yield image, label\n",
        "\n",
        "def test_generator():\n",
        "    \"\"\"测试集生成器\"\"\"\n",
        "    for test_filename in test_filenames:\n",
        "        image = handle_data(test_filename)\n",
        "\n",
        "        yield image\n",
        "\n",
        "\n",
        "def handle_data(train_filenames, train_label_filenames=None):\n",
        "    \"\"\"对数据做处理\"\"\"\n",
        "    image = cv2.imread(train_filenames)\n",
        "    image = cv2.resize(image, image_shape[::-1])# 因为数据的size都不一样，所以需要统一resize到我们约定的size（160，576）\n",
        "    \n",
        "    # 对影像的处理，去除阴影，这一步可以不做，只是效果会差一些。\n",
        "    image_yuv = cv2.cvtColor(image, cv2.COLOR_RGB2YUV)\n",
        "    image_yuv[:, :, 0] = cv2.equalizeHist(image_yuv[:, :, 0])\n",
        "    image = cv2.cvtColor(image_yuv, cv2.COLOR_YUV2RGB)\n",
        "    \n",
        "    # 对label做处理\n",
        "    if train_label_filenames is not None:\n",
        "        gt_image = cv2.imread(train_label_filenames)\n",
        "        gt_image = cv2.resize(gt_image, image_shape[::-1])\n",
        "\n",
        "        background_color = np.array([255, 0, 0])\n",
        "        gt_bg = np.all(gt_image == background_color, axis=2)\n",
        "        gt_bg = gt_bg.reshape(*gt_bg.shape, 1)\n",
        "        gt_image = np.concatenate((gt_bg, np.invert(gt_bg)), axis=2)\n",
        "    \n",
        "        return np.array(image), gt_image\n",
        "    else:\n",
        "        return np.array(image)\n",
        "\n",
        "\n",
        "\n",
        "# def handle_data(train_filenames, train_label_filenames=None):\n",
        "#     \"\"\"对数据做处理\"\"\"\n",
        "#     image = scipy.misc.imresize(\n",
        "#         scipy.misc.imread(train_filenames), image_shape)  # 因为数据的size都不一样，所以需要统一resize到我们约定的size（160，576）\n",
        "    \n",
        "#     # 对影像的处理，去除阴影，这一步可以不做，只是效果会差一些。\n",
        "#     image_yuv = cv2.cvtColor(image, cv2.COLOR_RGB2YUV)\n",
        "#     image_yuv[:, :, 0] = cv2.equalizeHist(image_yuv[:, :, 0])\n",
        "#     image = cv2.cvtColor(image_yuv, cv2.COLOR_YUV2RGB)\n",
        "\n",
        "# \t对label做处理\n",
        "#     if train_label_filenames is not None:\n",
        "#         gt_image = scipy.misc.imresize(\n",
        "#             scipy.misc.imread(train_label_filenames), image_shape)\n",
        "        \n",
        "#         background_color = np.array([255, 0, 0])\n",
        "#         gt_bg = np.all(gt_image == background_color, axis=2)\n",
        "#         gt_bg = gt_bg.reshape(*gt_bg.shape, 1)\n",
        "#         gt_image = np.concatenate((gt_bg, np.invert(gt_bg)), axis=2)\n",
        "    \n",
        "#         return np.array(image), gt_image\n",
        "#     else:\n",
        "#         return np.array(image)\n",
        "\n",
        "\n",
        "\n"
      ],
      "execution_count": null,
      "outputs": []
    },
    {
      "cell_type": "code",
      "metadata": {
        "id": "kQhf42rFObPq"
      },
      "source": [
        "import matplotlib.pyplot as plt\n",
        "image = cv2.imread(train_filenames[0])\n",
        "image_shape = (160, 576)\n",
        "image = cv2.resize(image, image_shape[::-1])# 因为数据的size都不一样，所以需要统一resize到我们约定的size（160，576）\n",
        "\n",
        "gt_image = cv2.imread(train_label_filenames[0])\n",
        "gt_image = cv2.resize(gt_image, image_shape[::-1])\n",
        "\n",
        "background_color = np.array([255, 0, 0])\n",
        "gt_bg = np.all(gt_image == background_color, axis=2)\n",
        "gt_bg = gt_bg.reshape(*gt_bg.shape, 1)\n",
        "gt_image = np.concatenate((gt_bg, np.invert(gt_bg)), axis=2)\n",
        "# print(np.array(image))\n",
        "Result = handle_data(train_filenames[0], train_label_filenames[0])"
      ],
      "execution_count": null,
      "outputs": []
    },
    {
      "cell_type": "code",
      "metadata": {
        "id": "9ccPZ68KhNtJ"
      },
      "source": [
        "train_dataset = tf.data.Dataset.from_generator(\n",
        "    train_generator, (tf.float32, tf.float32), (tf.TensorShape([None, None, None]), tf.TensorShape([None, None, None])))\n",
        "\n",
        "train_dataset = train_dataset.shuffle(buffer_size=len(train_filenames))  # 打乱数据的顺序，即不按照之前sort的顺序读取\n",
        "train_dataset = train_dataset.batch(5)  # 设置批量，同时训练的数据量。tensorflow模型的输入维度为[batcn, h, w, c]\n",
        "\n"
      ],
      "execution_count": null,
      "outputs": []
    },
    {
      "cell_type": "code",
      "metadata": {
        "id": "LpRoj3j7hZCv",
        "colab": {
          "base_uri": "https://localhost:8080/"
        },
        "outputId": "154f4583-c474-40b4-bb1a-f4a1a907dea1"
      },
      "source": [
        "import tensorflow as tf\n",
        "from tensorflow.keras.layers import Dropout, Input\n",
        "\n",
        "# 加载模型，参数分别表示\n",
        "vgg16_model = tf.keras.applications.vgg16.VGG16(weights='imagenet', include_top=False, input_tensor=Input(shape=(160, 160, 3)))\n",
        "\n",
        "vgg16_model.summary()  # 这一行是为了打印模型结构"
      ],
      "execution_count": null,
      "outputs": [
        {
          "output_type": "stream",
          "name": "stdout",
          "text": [
            "Downloading data from https://storage.googleapis.com/tensorflow/keras-applications/vgg16/vgg16_weights_tf_dim_ordering_tf_kernels_notop.h5\n",
            "58892288/58889256 [==============================] - 0s 0us/step\n",
            "58900480/58889256 [==============================] - 0s 0us/step\n",
            "Model: \"vgg16\"\n",
            "_________________________________________________________________\n",
            " Layer (type)                Output Shape              Param #   \n",
            "=================================================================\n",
            " input_1 (InputLayer)        [(None, 160, 160, 3)]     0         \n",
            "                                                                 \n",
            " block1_conv1 (Conv2D)       (None, 160, 160, 64)      1792      \n",
            "                                                                 \n",
            " block1_conv2 (Conv2D)       (None, 160, 160, 64)      36928     \n",
            "                                                                 \n",
            " block1_pool (MaxPooling2D)  (None, 80, 80, 64)        0         \n",
            "                                                                 \n",
            " block2_conv1 (Conv2D)       (None, 80, 80, 128)       73856     \n",
            "                                                                 \n",
            " block2_conv2 (Conv2D)       (None, 80, 80, 128)       147584    \n",
            "                                                                 \n",
            " block2_pool (MaxPooling2D)  (None, 40, 40, 128)       0         \n",
            "                                                                 \n",
            " block3_conv1 (Conv2D)       (None, 40, 40, 256)       295168    \n",
            "                                                                 \n",
            " block3_conv2 (Conv2D)       (None, 40, 40, 256)       590080    \n",
            "                                                                 \n",
            " block3_conv3 (Conv2D)       (None, 40, 40, 256)       590080    \n",
            "                                                                 \n",
            " block3_pool (MaxPooling2D)  (None, 20, 20, 256)       0         \n",
            "                                                                 \n",
            " block4_conv1 (Conv2D)       (None, 20, 20, 512)       1180160   \n",
            "                                                                 \n",
            " block4_conv2 (Conv2D)       (None, 20, 20, 512)       2359808   \n",
            "                                                                 \n",
            " block4_conv3 (Conv2D)       (None, 20, 20, 512)       2359808   \n",
            "                                                                 \n",
            " block4_pool (MaxPooling2D)  (None, 10, 10, 512)       0         \n",
            "                                                                 \n",
            " block5_conv1 (Conv2D)       (None, 10, 10, 512)       2359808   \n",
            "                                                                 \n",
            " block5_conv2 (Conv2D)       (None, 10, 10, 512)       2359808   \n",
            "                                                                 \n",
            " block5_conv3 (Conv2D)       (None, 10, 10, 512)       2359808   \n",
            "                                                                 \n",
            " block5_pool (MaxPooling2D)  (None, 5, 5, 512)         0         \n",
            "                                                                 \n",
            "=================================================================\n",
            "Total params: 14,714,688\n",
            "Trainable params: 14,714,688\n",
            "Non-trainable params: 0\n",
            "_________________________________________________________________\n"
          ]
        }
      ]
    },
    {
      "cell_type": "code",
      "metadata": {
        "id": "3qeC29xEhppu"
      },
      "source": [
        "# model\n",
        "import numpy as np\n",
        "import tensorflow as tf\n",
        "from tensorflow.keras.models import Sequential\n",
        "from tensorflow.keras.layers import Conv2D, Conv2DTranspose, UpSampling2D\n",
        "from tensorflow.keras.layers import Dropout, Input\n",
        "from tensorflow.keras.initializers import Constant\n",
        "# from tensorflow.nn import conv2d_transpose\n",
        "\n",
        "def bilinear_upsample_weights(factor, number_of_classes):\n",
        "    \"\"\"初始化权重参数\"\"\"\n",
        "    filter_size = factor*2 - factor%2\n",
        "    factor = (filter_size + 1) // 2\n",
        "    if filter_size % 2 == 1:\n",
        "        center = factor - 1\n",
        "    else:\n",
        "        center = factor - 0.5\n",
        "    og = np.ogrid[:filter_size, :filter_size]\n",
        "    upsample_kernel = (1 - abs(og[0] - center) / factor) * (1 - abs(og[1] - center) / factor)\n",
        "    weights = np.zeros((filter_size, filter_size, number_of_classes, number_of_classes),\n",
        "                       dtype=np.float32)\n",
        "    for i in range(number_of_classes):\n",
        "        weights[:, :, i, i] = upsample_kernel\n",
        "    return weights\n",
        "  \n",
        "\n",
        "class MyModel(tf.keras.Model):\n",
        "    def __init__(self, n_class):\n",
        "        super().__init__()\n",
        "        self.vgg16_model = self.load_vgg()\n",
        "        \n",
        "        self.conv_test = Conv2D(filters=n_class, kernel_size=(1, 1))  # 分类层\n",
        "        self.deconv_test = Conv2DTranspose(filters=n_class, \n",
        "                        kernel_size=(64, 64),\n",
        "                        strides=(32, 32),\n",
        "                        padding='same',\n",
        "                        activation='sigmoid',\n",
        "                        kernel_initializer=Constant(bilinear_upsample_weights(32, n_class)))  # 上采样层\n",
        "\n",
        "    def call(self, input):\n",
        "      x = self.vgg16_model(input)\n",
        "      x = self.conv_test(x)\n",
        "      x = self.deconv_test(x)\n",
        "      return x\n",
        "\n",
        "    def load_vgg(self):\n",
        "        # 加载vgg16模型，其中注意input_tensor，include_top\n",
        "        vgg16_model = tf.keras.applications.vgg16.VGG16(weights='imagenet', include_top=False, input_tensor=Input(shape=(image_shape[0], image_shape[1], 3)))\n",
        "        for layer in vgg16_model.layers[:15]:\n",
        "          layer.trainable = False  # 不训练前15层模型\n",
        "        return vgg16_model\n"
      ],
      "execution_count": null,
      "outputs": []
    },
    {
      "cell_type": "code",
      "metadata": {
        "id": "OTul1CuUSlrG"
      },
      "source": [
        "import os\n",
        "import tensorflow as tf\n",
        "import numpy as np\n",
        "import scipy\n",
        "import cv2\n",
        "from skimage import io\n",
        "\n",
        "train_dataset = tf.data.Dataset.from_generator(\n",
        "    train_generator, (tf.float32, tf.float32), (tf.TensorShape([None, None, None]), tf.TensorShape([None, None, None])))\n",
        "\n",
        "train_dataset = train_dataset.shuffle(buffer_size=len(train_filenames))\n",
        "train_dataset = train_dataset.batch(10)\n",
        "\n",
        "#model = MyModel(2)  # FCN模型\n",
        "model = DeepLabV3Plus(image_shape[0], image_shape[1], nclasses=2)  # deeplab模型\n",
        "\n",
        "# 在得到模型后，配置compile的参数即可，需要optimizer与loss与评估器。learning_rate一般取0.001或者0.0001较好。\n",
        "optimizer = tf.keras.optimizers.Adam(learning_rate=0.001)\n",
        "model.compile(\n",
        "    optimizer=optimizer,\n",
        "    loss=tf.compat.v2.nn.softmax_cross_entropy_with_logits,\n",
        "    metrics=['accuracy']\n",
        ")\n",
        "\n",
        "# fit输入的参数为训练集dataset以及跑的轮数，可自己配置，用colab的gpu跑100轮需要1个小时左右。\n",
        "model.fit(train_dataset, epochs=1)\n",
        "# model.summary()\n",
        "\n",
        "# 保存模型，以便以后在这个模型的基础上训练，或者用这个模型测试时，只需要这一个文件与测试数据集即可，不需要再定义模型。\n",
        "# model.save('weights/fcn8s_20191021.h5')\n",
        "\n"
      ],
      "execution_count": null,
      "outputs": []
    },
    {
      "cell_type": "code",
      "metadata": {
        "id": "ffk_pyLPh0tO"
      },
      "source": [
        "# import os\n",
        "# import tensorflow as tf\n",
        "# import numpy as np\n",
        "# import scipy\n",
        "# import cv2\n",
        "# from skimage import io\n",
        "\n",
        "# num_epochs = 5\n",
        "# train_dataset = tf.data.Dataset.from_generator(\n",
        "#     train_generator, (tf.float32, tf.float32), (tf.TensorShape([None, None, None]), tf.TensorShape([None, None, None])))\n",
        "\n",
        "# train_dataset = train_dataset.shuffle(buffer_size=len(train_filenames))\n",
        "# train_dataset = train_dataset.batch(2)\n",
        "\n",
        "# model = MyModel(2)  # FCN模型\n",
        "\n",
        "# # os.chdir('/content/drive/data_road/weights')\n",
        "# # model = MyModel(2)\n",
        "# # model.build(input_shape = [None,160,576,3])\n",
        "# # model.load_weights('FCN8S_20211126.h5')\n",
        "# # model = DeepLabV3Plus(image_shape[0], image_shape[1], nclasses=2)  # deeplab模型\n",
        "# # model.load_weights('DEEPV3_20211126.h5')\n",
        "\n",
        "# # 在得到模型后，配置compile的参数即可，需要optimizer与loss与评估器。learning_rate一般取0.001或者0.0001较好。\n",
        "# optimizer = tf.keras.optimizers.Adam(learning_rate=0.001)\n",
        "# model.compile(\n",
        "#     optimizer=optimizer,\n",
        "#     loss=tf.compat.v2.nn.softmax_cross_entropy_with_logits,\n",
        "#     metrics=['accuracy']\n",
        "# )\n",
        "# # fit输入的参数为训练集dataset以及跑的轮数，可自己配置，用colab的gpu跑100轮需要1个小时左右。\n",
        "# model.fit(train_dataset, num_epochs)\n",
        "# # model.summary()\n",
        "\n",
        "# # # 保存模型，以便以后在这个模型的基础上训练，或者用这个模型测试时，只需要这一个文件与测试数据集即可，不需要再定义模型。\n",
        "# # model.save('weights/FCN8S_20211126.h5')\n",
        "\n"
      ],
      "execution_count": null,
      "outputs": []
    },
    {
      "cell_type": "code",
      "metadata": {
        "id": "ffuRg3LCpOyx"
      },
      "source": [
        "os.chdir('/content/drive/data_road/')\n",
        "model.save_weights('weights/DEEPV3_20211127.h5')"
      ],
      "execution_count": null,
      "outputs": []
    },
    {
      "cell_type": "code",
      "metadata": {
        "colab": {
          "base_uri": "https://localhost:8080/"
        },
        "id": "yMwk9iVfPmLE",
        "outputId": "89f71cbf-37dc-45ef-b415-f4ee0d3b6887"
      },
      "source": [
        "#model = MyModel(2)\n",
        "model = DeepLabV3Plus(image_shape[0], image_shape[1], nclasses=2)  # deeplab模型\n",
        "os.chdir('/content/drive/MyDrive/Cell')\n",
        "model.build([None, 160, 576, 3])\n",
        "model.load_weights('DeepLabV3.h5')"
      ],
      "execution_count": null,
      "outputs": [
        {
          "output_type": "stream",
          "name": "stdout",
          "text": [
            "*** Building DeepLabv3Plus Network ***\n",
            "*** Output_Shape => (None, 160, 576, 2) ***\n"
          ]
        }
      ]
    },
    {
      "cell_type": "code",
      "metadata": {
        "id": "Jkf1mpvTkOk-"
      },
      "source": [
        "import matplotlib.pyplot as plt\n",
        "\n",
        "filename = train_filenames[0]\n",
        "#filename = test_filenames[0]\n",
        "img = cv2.imread(filename)\n",
        "ori_image = cv2.resize(img, image_shape[::-1])\n",
        "image = ori_image[np.newaxis,:,:,:].astype(\"float32\")\n",
        "print(image.shape)\n",
        "result = model.predict(image)\n",
        "r = result[0]\n",
        "Re = r[:,:,0]\n",
        "print(Re.shape)\n",
        "r\n",
        "# plt.imshow(Re)\n",
        "# result = model.predict(img)"
      ],
      "execution_count": null,
      "outputs": []
    },
    {
      "cell_type": "code",
      "metadata": {
        "colab": {
          "base_uri": "https://localhost:8080/",
          "height": 179
        },
        "id": "-LoEYvNZQcxf",
        "outputId": "0d9390bf-ca89-4e0e-96de-cc5845cd5a00"
      },
      "source": [
        "filename = train_label_filenames[0]\n",
        "img = cv2.imread(filename)\n",
        "img = cv2.resize(img, image_shape[::-1])\n",
        "print(img.shape)\n",
        "plt.imshow(img[:,:,0])"
      ],
      "execution_count": null,
      "outputs": [
        {
          "output_type": "stream",
          "name": "stdout",
          "text": [
            "(160, 576, 3)\n"
          ]
        },
        {
          "output_type": "execute_result",
          "data": {
            "text/plain": [
              "<matplotlib.image.AxesImage at 0x7f7d378c7a10>"
            ]
          },
          "metadata": {},
          "execution_count": 16
        },
        {
          "output_type": "display_data",
          "data": {
            "image/png": "[encoded data removed]",
            "text/plain": [
              "<Figure size 432x288 with 1 Axes>"
            ]
          },
          "metadata": {
            "needs_background": "light"
          }
        }
      ]
    },
    {
      "cell_type": "code",
      "metadata": {
        "id": "UflJFu_oql55"
      },
      "source": [
        "# Model 2\n",
        "# model\n",
        "import numpy as np\n",
        "import tensorflow as tf\n",
        "from tensorflow.keras.models import Sequential\n",
        "from tensorflow.keras.layers import Conv2D, Conv2DTranspose, UpSampling2D, Add, BatchNormalization, MaxPooling2D\n",
        "from tensorflow.keras.layers import Dropout, Input\n",
        "from tensorflow.keras.initializers import Constant\n",
        "# from tensorflow.nn import conv2d_transpose\n",
        "image_shape = (160, 576)\n",
        "def bilinear_upsample_weights(factor, number_of_classes):\n",
        "    filter_size = factor*2 - factor%2\n",
        "    factor = (filter_size + 1) // 2\n",
        "    if filter_size % 2 == 1:\n",
        "        center = factor - 1\n",
        "    else:\n",
        "        center = factor - 0.5\n",
        "    og = np.ogrid[:filter_size, :filter_size]\n",
        "    upsample_kernel = (1 - abs(og[0] - center) / factor) * (1 - abs(og[1] - center) / factor)\n",
        "    weights = np.zeros((filter_size, filter_size, number_of_classes, number_of_classes),\n",
        "                       dtype=np.float32)\n",
        "    for i in range(number_of_classes):\n",
        "        weights[:, :, i, i] = upsample_kernel\n",
        "    return weights\n",
        "  \n",
        "\n",
        "class MyModel(tf.keras.Model):\n",
        "    def __init__(self, NUM_OF_CLASSESS):\n",
        "        super().__init__()\n",
        "        vgg16_model = self.load_vgg()\n",
        "        self.conv1_1 = vgg16_model.layers[1]\n",
        "        self.conv1_2 = vgg16_model.layers[2]\n",
        "        self.pool1 = vgg16_model.layers[3]\n",
        "        #(128,128)\n",
        "        self.conv2_1 = vgg16_model.layers[4]\n",
        "        self.conv2_2 = vgg16_model.layers[5]\n",
        "        self.pool2 = vgg16_model.layers[6]\n",
        "        #(64,64)\n",
        "        self.conv3_1 = vgg16_model.layers[7]\n",
        "        self.conv3_2 = vgg16_model.layers[8]\n",
        "        self.conv3_3 = vgg16_model.layers[9]\n",
        "        self.pool3 =  vgg16_model.layers[10]\n",
        "        #(32,32)\n",
        "        self.conv4_1 = vgg16_model.layers[11]\n",
        "        self.conv4_2 = vgg16_model.layers[12]\n",
        "        self.conv4_3 = vgg16_model.layers[13]\n",
        "        self.pool4 =  vgg16_model.layers[14]\n",
        "        #(16,16)\n",
        "        self.conv5_1 = vgg16_model.layers[15]\n",
        "        self.conv5_2 =  vgg16_model.layers[16]\n",
        "        self.conv5_3 = vgg16_model.layers[17]\n",
        "        self.pool5 = vgg16_model.layers[18]\n",
        "        self.conv6 = Conv2D(4096,(7,7),(1,1),padding=\"same\",activation=\"relu\")\n",
        "        self.drop6 = Dropout(0.5)\n",
        "        self.conv7 = Conv2D(4096,(1,1),(1,1),padding=\"same\",activation=\"relu\")\n",
        "        self.drop7 = Dropout(0.5)\n",
        "        self.score_fr = Conv2D(NUM_OF_CLASSESS,(1,1),(1,1),padding=\"valid\",activation=\"relu\")\n",
        "        self.score_pool4 = Conv2D(NUM_OF_CLASSESS,(1,1),(1,1),padding=\"valid\",activation=\"relu\")\n",
        "        self.conv_t1 = Conv2DTranspose(NUM_OF_CLASSESS,(4,4),(2,2),padding=\"same\")\n",
        "        self.fuse_1 = Add()\n",
        "        self.conv_t2 = Conv2DTranspose(NUM_OF_CLASSESS,(4,4),(2,2),padding=\"same\")\n",
        "        self.score_pool3 = Conv2D(NUM_OF_CLASSESS,(1,1),(1,1),padding=\"valid\",activation=\"relu\")\n",
        "        self.fuse_2 = Add()\n",
        "        self.conv_t3 = Conv2DTranspose(NUM_OF_CLASSESS,(16,16),(8,8),padding=\"same\", activation=\"sigmoid\", kernel_initializer=Constant(bilinear_upsample_weights(8, NUM_OF_CLASSESS)))\n",
        "        \n",
        "\n",
        "    def call(self, input):\n",
        "      x = self.conv1_1(input)\n",
        "      x = self.conv1_2(x)\n",
        "      x = self.pool1(x)\n",
        "      x = self.conv2_1(x)\n",
        "      x = self.conv2_2(x)\n",
        "      x = self.pool2(x)\n",
        "      x = self.conv3_1(x)\n",
        "      x = self.conv3_2(x)\n",
        "      x = self.conv3_3(x)\n",
        "      x_3 = self.pool3(x)\n",
        "      x = self.conv4_1(x_3)\n",
        "      x = self.conv4_2(x)\n",
        "      x = self.conv4_3(x)\n",
        "      x_4 = self.pool4(x)\n",
        "      x = self.conv5_1(x_4)\n",
        "      x = self.conv5_2(x)\n",
        "      x = self.conv5_3(x)\n",
        "      x = self.pool5(x)\n",
        "      x = self.conv6(x)\n",
        "      x = self.drop6(x)\n",
        "      x = self.conv7(x)\n",
        "      x = self.drop7(x)\n",
        "      x = self.score_fr(x)  # 第5层pool分类结果\n",
        "      x_score4 = self.score_pool4(x_4) # 第4层pool分类结果\n",
        "      x_dconv1 = self.conv_t1(x)  # 第5层pool分类结果上采样\n",
        "      x = self.fuse_1([x_dconv1,x_score4])  # 第4层pool分类结果+第5层pool分类结果上采样\n",
        "      x_dconv2 = self.conv_t2(x)  # 第一次融合后上采样\n",
        "      x_score3 = self.score_pool3(x_3)  # 第三次pool分类\n",
        "      x = self.fuse_2([x_dconv2,x_score3])  #  第一次融合后上采样+第三次pool分类\n",
        "      x = self.conv_t3(x)  # 上采样\n",
        "      return x\n",
        "\n",
        "    def load_vgg(self):\n",
        "        # 加载vgg16模型，其中注意input_tensor，include_top\n",
        "        vgg16_model = tf.keras.applications.vgg16.VGG16(weights='imagenet', include_top=False, input_tensor=Input(shape=(image_shape[0], image_shape[1], 3)))\n",
        "        for layer in vgg16_model.layers[:18]:\n",
        "          layer.trainable = False\n",
        "        return vgg16_model\n",
        "\n"
      ],
      "execution_count": null,
      "outputs": []
    },
    {
      "cell_type": "code",
      "metadata": {
        "id": "v8Mcu136qvQ3"
      },
      "source": [
        "#DeepLabLab V3\n",
        "import tensorflow as tf\n",
        "from tensorflow.keras import backend as K\n",
        "from tensorflow.keras.models import Model\n",
        "from tensorflow.keras.layers import AveragePooling2D, Lambda, Conv2D, Conv2DTranspose, Activation, Reshape, concatenate, Concatenate, BatchNormalization, ZeroPadding2D\n",
        "\n",
        "from tensorflow.keras.applications import ResNet50\n",
        "\n",
        "\n",
        "def Upsample(tensor, size):\n",
        "    '''bilinear upsampling'''\n",
        "    name = tensor.name.split('/')[0] + '_upsample'\n",
        "\n",
        "    def bilinear_upsample(x, size):\n",
        "        resized = tf.image.resize(\n",
        "            images=x, size=size)\n",
        "        return resized\n",
        "    y = Lambda(lambda x: bilinear_upsample(x, size),\n",
        "               output_shape=size, name=name)(tensor)\n",
        "    return y\n",
        "\n",
        "\n",
        "def ASPP(tensor):\n",
        "    '''atrous spatial pyramid pooling'''\n",
        "    dims = K.int_shape(tensor)\n",
        "\n",
        "    y_pool = AveragePooling2D(pool_size=(\n",
        "        dims[1], dims[2]), name='average_pooling')(tensor)\n",
        "    y_pool = Conv2D(filters=256, kernel_size=1, padding='same',\n",
        "                    kernel_initializer='he_normal', name='pool_1x1conv2d', use_bias=False)(y_pool)\n",
        "    y_pool = BatchNormalization(name=f'bn_1')(y_pool)\n",
        "    y_pool = Activation('relu', name=f'relu_1')(y_pool)\n",
        "\n",
        "    y_pool = Upsample(tensor=y_pool, size=[dims[1], dims[2]])\n",
        "\n",
        "    y_1 = Conv2D(filters=256, kernel_size=1, dilation_rate=1, padding='same',\n",
        "                 kernel_initializer='he_normal', name='ASPP_conv2d_d1', use_bias=False)(tensor)\n",
        "    y_1 = BatchNormalization(name=f'bn_2')(y_1)\n",
        "    y_1 = Activation('relu', name=f'relu_2')(y_1)\n",
        "\n",
        "    y_6 = Conv2D(filters=256, kernel_size=3, dilation_rate=6, padding='same',\n",
        "                 kernel_initializer='he_normal', name='ASPP_conv2d_d6', use_bias=False)(tensor)\n",
        "    y_6 = BatchNormalization(name=f'bn_3')(y_6)\n",
        "    y_6 = Activation('relu', name=f'relu_3')(y_6)\n",
        "\n",
        "    y_12 = Conv2D(filters=256, kernel_size=3, dilation_rate=12, padding='same',\n",
        "                  kernel_initializer='he_normal', name='ASPP_conv2d_d12', use_bias=False)(tensor)\n",
        "    y_12 = BatchNormalization(name=f'bn_4')(y_12)\n",
        "    y_12 = Activation('relu', name=f'relu_4')(y_12)\n",
        "\n",
        "    y_18 = Conv2D(filters=256, kernel_size=3, dilation_rate=18, padding='same',\n",
        "                  kernel_initializer='he_normal', name='ASPP_conv2d_d18', use_bias=False)(tensor)\n",
        "    y_18 = BatchNormalization(name=f'bn_5')(y_18)\n",
        "    y_18 = Activation('relu', name=f'relu_5')(y_18)\n",
        "\n",
        "    y = concatenate([y_pool, y_1, y_6, y_12, y_18], name='ASPP_concat')\n",
        "\n",
        "    y = Conv2D(filters=256, kernel_size=1, dilation_rate=1, padding='same',\n",
        "               kernel_initializer='he_normal', name='ASPP_conv2d_final', use_bias=False)(y)\n",
        "    y = BatchNormalization(name=f'bn_final')(y)\n",
        "    y = Activation('relu', name=f'relu_final')(y)\n",
        "    return y\n",
        "\n",
        "\n",
        "def DeepLabV3Plus(img_height, img_width, nclasses=2):\n",
        "    print('*** Building DeepLabv3Plus Network ***')\n",
        "    \n",
        "\t# 这里加载ResNet50模型，并且使用其两个模块的结果。\n",
        "    base_model = ResNet50(input_shape=(\n",
        "        img_height, img_width, 3), weights='imagenet', include_top=False)\n",
        "    \n",
        "    # 可以像模型加载章节的加载部分打印ResNet50模型，查看结构，“conv4_block6_2_relu”为层的名字， 加上.output表示这一层的输出。\n",
        "    image_features = base_model.get_layer('conv4_block6_2_relu').output\n",
        "    x_a = ASPP(image_features)\n",
        "    x_a = Upsample(tensor=x_a, size=[img_height // 4, img_width // 4])\n",
        "\n",
        "    x_b = base_model.get_layer('conv2_block3_2_relu').output\n",
        "    x_b = Conv2D(filters=48, kernel_size=1, padding='same',\n",
        "                 kernel_initializer='he_normal', name='low_level_projection', use_bias=False)(x_b)\n",
        "    x_b = BatchNormalization(name=f'bn_low_level_projection')(x_b)\n",
        "    x_b = Activation('relu', name='low_level_activation')(x_b)\n",
        "\n",
        "    x = concatenate([x_a, x_b], name='decoder_concat')\n",
        "\n",
        "    x = Conv2D(filters=256, kernel_size=3, padding='same', activation='relu',\n",
        "               kernel_initializer='he_normal', name='decoder_conv2d_1', use_bias=False)(x)\n",
        "    x = BatchNormalization(name=f'bn_decoder_1')(x)\n",
        "    x = Activation('relu', name='activation_decoder_1')(x)\n",
        "\n",
        "    x = Conv2D(filters=256, kernel_size=3, padding='same', activation='relu',\n",
        "               kernel_initializer='he_normal', name='decoder_conv2d_2', use_bias=False)(x)\n",
        "    x = BatchNormalization(name=f'bn_decoder_2')(x)\n",
        "    x = Activation('relu', name='activation_decoder_2')(x)\n",
        "    x = Upsample(x, [img_height, img_width])\n",
        "\n",
        "    x = Conv2D(nclasses, (1, 1), name='output_layer')(x)\n",
        "    '''\n",
        "    x = Activation('softmax')(x) \n",
        "    tf.losses.SparseCategoricalCrossentropy(from_logits=True)\n",
        "    Args:\n",
        "        from_logits: Whether `y_pred` is expected to be a logits tensor. By default,\n",
        "        we assume that `y_pred` encodes a probability distribution.\n",
        "    '''     \n",
        "    model = Model(inputs=base_model.input, outputs=x, name='DeepLabV3_Plus')\n",
        "    print(f'*** Output_Shape => {model.output_shape} ***')\n",
        "    return model"
      ],
      "execution_count": null,
      "outputs": []
    }
  ]
}